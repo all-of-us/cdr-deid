{
 "cells": [
  {
   "cell_type": "code",
   "execution_count": null,
   "metadata": {
    "scrolled": false
   },
   "outputs": [],
   "source": [
    "\"\"\"\n",
    "    This notebook captures the process by which de-identification is ran against the AoUS bigquery database\n",
    "    @TODO:\n",
    "    - Need to add some form of logs to know what is going on at all times\n",
    "    - \n",
    "\"\"\"\n",
    "from __future__ import division\n",
    "import json\n",
    "from google.cloud import bigquery as bq\n",
    "\n",
    "from deid import *\n",
    "client = bq.Client.from_service_account_json('/home/steve/git/rdc/deid/config/account/account.json')\n",
    "Orchestrator(client=client,vocabulary_id='PPI',concept_class_id=['Question','PPI Modifier'],dataset='raw',table='observation',fields=['value_as_number'])\n",
    "import sys\n",
    "del sys.modules['deid']"
   ]
  },
  {
   "cell_type": "code",
   "execution_count": null,
   "metadata": {},
   "outputs": [],
   "source": [
    "null = None\n",
    "top =   {\n",
    "    \"observation_id\": \"1040962298\",\n",
    "    \"person_id\": \"562270\",\n",
    "    \"observation_concept_id\": \"0\",\n",
    "    \"observation_type_concept_id\": \"45905771\",\n",
    "    \"value_as_string\": \"hzngxomcmeawcekthvdu\",\n",
    "    \"value_as_concept_id\": \"0\",\n",
    "    \"qualifier_concept_id\": \"0\",\n",
    "    \"unit_concept_id\": \"0\",\n",
    "    \"provider_id\": None,\n",
    "    \"visit_occurrence_id\": None,\n",
    "    \"observation_source_value\": \"SecondaryContactInfo_PersonOneEmail\",\n",
    "    \"observation_source_concept_id\": \"1585915\",\n",
    "    \"unit_source_value\": None,\n",
    "    \"qualifier_source_value\": None,\n",
    "    \"value_source_concept_id\": \"0\",\n",
    "    \"value_source_value\": None,\n",
    "    \"questionnaire_response_id\": \"1916632951\",\n",
    "    \"observation_date\": \"-13515\",\n",
    "    \"observation_datetime\": \"-13515\"\n",
    "  }\n",
    "bot = {\n",
    "    \"value_as_string\": \"-18688\",\n",
    "    \"person_id\": \"562270\",\n",
    "    \"observation_date\": \"-31731\",\n",
    "    \"observation_datetime\": \"-31731\",\n",
    "    \"provider_id\": null,\n",
    "    \"observation_concept_id\": \"0\",\n",
    "    \"observation_id\": \"1040962363\",\n",
    "    \"unit_source_value\": null,\n",
    "    \"unit_concept_id\": \"0\",\n",
    "    \"value_source_value\": null,\n",
    "    \"qualifier_concept_id\": \"0\",\n",
    "    \"observation_source_value\": \"PIIBirthInformation_BirthDate\",\n",
    "    \"observation_type_concept_id\": \"45905771\",\n",
    "    \"observation_source_concept_id\": \"1585259\",\n",
    "    \"qualifier_source_value\": null,\n",
    "    \"value_as_concept_id\": \"0\",\n",
    "    \"value_source_concept_id\": \"0\",\n",
    "    \"questionnaire_response_id\": \"1164848414\",\n",
    "    \"visit_occurrence_id\": null\n",
    "  }\n",
    "orig =  {\n",
    "    \"observation_id\": \"67221101\",\n",
    "    \"person_id\": \"780400\",\n",
    "    \"observation_concept_id\": \"4117957\",\n",
    "    \"observation_date\": \"2015-09-24\",\n",
    "    \"observation_datetime\": \"2015-09-24 00:00:00.000 UTC\",\n",
    "    \"observation_type_concept_id\": \"8201211117\",\n",
    "    \"value_as_number\": None,\n",
    "    \"value_as_string\": None,\n",
    "    \"value_as_concept_id\": \"0\",\n",
    "    \"qualifier_concept_id\": \"0\",\n",
    "    \"unit_concept_id\": \"0\",\n",
    "    \"provider_id\": \"0\",\n",
    "    \"visit_occurrence_id\": \"193011596\",\n",
    "    \"observation_source_value\": \"Y95\",\n",
    "    \"observation_source_concept_id\": \"35225031\",\n",
    "    \"unit_source_value\": None,\n",
    "    \"qualifier_source_value\": None,\n",
    "    \"value_source_concept_id\": None,\n",
    "    \"value_source_value\": None,\n",
    "    \"questionnaire_response_id\": None\n",
    "  }\n",
    "# [len(set(orig) - set(top)),len(set(top)-set(bot)), len(set(orig)- set(bot.keys()))]\n",
    "set(orig)-set(bot)\n"
   ]
  },
  {
   "cell_type": "code",
   "execution_count": null,
   "metadata": {},
   "outputs": [],
   "source": [
    "#\n",
    "# This section performs suppression of PPI on a meta-table\n",
    "# @TODO INsure the way in which the PPI are identified is correct. You should make sure the dates aren't suppressed.\n",
    "# Dates will have to be shifted ()\n",
    "#\n",
    "# handler = SuppressPPI(client=client)\n",
    "# r = handler.can_do('raw')\n",
    "# handler.do(i_dataset='raw',table_name='observation', o_dataset='out')"
   ]
  },
  {
   "cell_type": "code",
   "execution_count": null,
   "metadata": {},
   "outputs": [],
   "source": [
    "#\n",
    "# This section performs a suppression of fields from a non-meta table\n",
    "# A configureation should be provided to the class\n",
    "#\n",
    "# config = {\"raw\":{\"person\":['year_of_birth','month_of_birth','day_of_birth']}}\n",
    "# h = SuppressEHR(client=client,config = config)\n",
    "# h.can_do('raw','person')\n",
    "# h.do(i_dataset='raw',o_dataset='out',table_name='person')"
   ]
  },
  {
   "cell_type": "code",
   "execution_count": null,
   "metadata": {},
   "outputs": [],
   "source": [
    "#\n",
    "# This section will perform a date shifting on PPI and EHR\n",
    "# The date shifting operation will (to a certain degree) include suppression\n",
    "#\n",
    "h = Shift(client=client,vocabulary_id='PPI',concept_class_id=['Question','PPI Modifier'])\n",
    "[h.vocabulary_id,h.concept_sql]\n",
    "r = h.can_do('raw','observation')\n",
    "h.get('raw','observation')['fields']\n",
    "# h.do(i_dataset='raw',table_name='observation',o_dataset='out')\n",
    "# h.sql"
   ]
  },
  {
   "cell_type": "code",
   "execution_count": null,
   "metadata": {},
   "outputs": [],
   "source": [
    "# ref = client.dataset('raw').table('person')\n",
    "# info = client.get_table(ref).schema\n",
    "# [field.field_type for field in info]\n",
    "h = DropFields(client=client)\n",
    "h.can_do('raw','observation')\n",
    "\n",
    "# str(h.policies['raw.observation']).replace('\\n','')\n",
    "# h.get('raw','person')\n",
    "\n",
    "# fields = h.policies['raw.concept']\n",
    "# fields\n",
    "# str(fields.replace('\\n','').replace('  ',' '))"
   ]
  },
  {
   "cell_type": "code",
   "execution_count": null,
   "metadata": {},
   "outputs": [],
   "source": [
    "Orchestrator(client=client,vocabulary_id='PPI',concept_class_id=['Question','PPI Modifier'],dataset='raw',table='observation',fields=['person_id','value_as_number'])"
   ]
  },
  {
   "cell_type": "code",
   "execution_count": null,
   "metadata": {},
   "outputs": [],
   "source": [
    "class P:\n",
    "    def name(self) :\n",
    "        return self.__class__.__name__.lower()\n",
    "p = P()\n",
    "p.name()"
   ]
  },
  {
   "cell_type": "code",
   "execution_count": null,
   "metadata": {},
   "outputs": [],
   "source": []
  }
 ],
 "metadata": {
  "kernelspec": {
   "display_name": "Python 2",
   "language": "python",
   "name": "python2"
  },
  "language_info": {
   "codemirror_mode": {
    "name": "ipython",
    "version": 2
   },
   "file_extension": ".py",
   "mimetype": "text/x-python",
   "name": "python",
   "nbconvert_exporter": "python",
   "pygments_lexer": "ipython2",
   "version": "2.7.12"
  }
 },
 "nbformat": 4,
 "nbformat_minor": 2
}
