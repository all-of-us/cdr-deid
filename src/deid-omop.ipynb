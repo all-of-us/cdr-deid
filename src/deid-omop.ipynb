{
 "cells": [
  {
   "cell_type": "code",
   "execution_count": 1,
   "metadata": {},
   "outputs": [],
   "source": [
    "\"\"\"\n",
    "    This notebook captures the process by which de-identification is ran against the AoUS bigquery database\n",
    "    The \n",
    "\"\"\"\n",
    "from __future__ import division\n",
    "import json\n",
    "from google.cloud import bigquery as bq\n",
    "\n",
    "from deid import *\n",
    "client = bq.Client.from_service_account_json('/home/steve/git/rdc/deid/config/account/account.json')"
   ]
  },
  {
   "cell_type": "code",
   "execution_count": 2,
   "metadata": {},
   "outputs": [],
   "source": [
    "#\n",
    "# By default will work for PPI\n",
    "handler = SuppressPPI(client=client)\n",
    "r = handler.can_do('raw')\n",
    "#handler.do(i_dataset='raw',table_name='observation', o_dataset='out')"
   ]
  },
  {
   "cell_type": "code",
   "execution_count": 3,
   "metadata": {},
   "outputs": [],
   "source": [
    "config = {\"raw\":{\"person\":['year_of_birth','month_of_birth','day_of_birth']}}\n",
    "h = SuppressEHR(client=client,config = config)\n",
    "h.can_do('raw','person')\n",
    "h.do(i_dataset='raw',o_dataset='out',table_name='person')"
   ]
  },
  {
   "cell_type": "code",
   "execution_count": null,
   "metadata": {},
   "outputs": [],
   "source": []
  }
 ],
 "metadata": {
  "kernelspec": {
   "display_name": "Python 2",
   "language": "python",
   "name": "python2"
  },
  "language_info": {
   "codemirror_mode": {
    "name": "ipython",
    "version": 2
   },
   "file_extension": ".py",
   "mimetype": "text/x-python",
   "name": "python",
   "nbconvert_exporter": "python",
   "pygments_lexer": "ipython2",
   "version": "2.7.12"
  }
 },
 "nbformat": 4,
 "nbformat_minor": 2
}
