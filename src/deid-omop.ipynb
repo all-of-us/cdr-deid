{
 "cells": [
  {
   "cell_type": "code",
   "execution_count": 1,
   "metadata": {},
   "outputs": [],
   "source": [
    "\"\"\"\n",
    "    This notebook captures the process by which de-identification is ran against the AoUS bigquery database\n",
    "    @TODO:\n",
    "    - Need to add some form of logs to know what is going on at all times\n",
    "    - \n",
    "\"\"\"\n",
    "from __future__ import division\n",
    "import json\n",
    "from google.cloud import bigquery as bq\n",
    "\n",
    "from deid import *\n",
    "client = bq.Client.from_service_account_json('/home/steve/git/rdc/deid/config/account/account.json')"
   ]
  },
  {
   "cell_type": "code",
   "execution_count": null,
   "metadata": {},
   "outputs": [],
   "source": [
    "#\n",
    "# This section performs suppression of PPI on a meta-table\n",
    "# @TODO INsure the way in which the PPI are identified is correct. You should make sure the dates aren't suppressed.\n",
    "# Dates will have to be shifted ()\n",
    "#\n",
    "handler = SuppressPPI(client=client)\n",
    "r = handler.can_do('raw')\n",
    "handler.do(i_dataset='raw',table_name='observation', o_dataset='out')"
   ]
  },
  {
   "cell_type": "code",
   "execution_count": null,
   "metadata": {},
   "outputs": [],
   "source": [
    "#\n",
    "# This section performs a suppression of fields from a non-meta table\n",
    "# A configureation should be provided to the class\n",
    "#\n",
    "config = {\"raw\":{\"person\":['year_of_birth','month_of_birth','day_of_birth']}}\n",
    "h = SuppressEHR(client=client,config = config)\n",
    "h.can_do('raw','person')\n",
    "h.do(i_dataset='raw',o_dataset='out',table_name='person')"
   ]
  },
  {
   "cell_type": "code",
   "execution_count": 2,
   "metadata": {},
   "outputs": [
    {
     "name": "stdout",
     "output_type": "stream",
     "text": [
      " *** done \n",
      "\n",
      "\n",
      "            SELECT x.observation_id,x.person_id,x.observation_concept_id,x.observation_date,x.observation_datetime,x.observation_type_concept_id,x.value_as_number,x.value_as_concept_id,x.qualifier_concept_id,x.unit_concept_id,x.provider_id,x.visit_occurrence_id,x.observation_source_concept_id,x.unit_source_value,x.qualifier_source_value,x.value_source_concept_id,x.value_source_value,x.questionnaire_response_id, x.observation_source_value, DATE_DIFF(cast(x.value_as_string as date), cast(y.value_as_string as date), DAY) as value_as_string\n",
      "            FROM raw.observation   x INNER JOIN (SELECT value_as_string,person_id from raw.observation where observation_source_value = 'ExtraConsent_TodaysDate') y ON y.person_id = x.person_id\n",
      "\n",
      "            WHERE x.person_id = 562270 AND\n",
      "                x.observation_source_value in (\n",
      "                select concept_code from raw.concept\n",
      "                where\n",
      "                vocabulary_id = 'PPI' AND REGEXP_CONTAINS(concept_code,'(date|Date|DATE)')\n",
      "                 AND concept_class_id in ('Question','PPI Modifier')\n",
      "            )\n",
      "        \n"
     ]
    }
   ],
   "source": [
    "#\n",
    "# This section will perform a date shifting on PPI and EHR\n",
    "# The date shifting operation will (to a certain degree) include suppression\n",
    "#\n",
    "h = Shift(client=client,vocabulary_id='PPI',concept_class_id=['Question','PPI Modifier'])\n",
    "[h.vocabulary_id,h.concept_sql]\n",
    "r = h.can_do('raw')\n",
    "h.do(i_dataset='raw',table_name='observation',o_dataset='out')\n",
    "# h.sql"
   ]
  },
  {
   "cell_type": "code",
   "execution_count": null,
   "metadata": {},
   "outputs": [],
   "source": [
    "ref = client.dataset('raw').table('observation')\n",
    "client.get_table(ref).schema"
   ]
  },
  {
   "cell_type": "code",
   "execution_count": null,
   "metadata": {},
   "outputs": [],
   "source": []
  }
 ],
 "metadata": {
  "kernelspec": {
   "display_name": "Python 2",
   "language": "python",
   "name": "python2"
  },
  "language_info": {
   "codemirror_mode": {
    "name": "ipython",
    "version": 2
   },
   "file_extension": ".py",
   "mimetype": "text/x-python",
   "name": "python",
   "nbconvert_exporter": "python",
   "pygments_lexer": "ipython2",
   "version": "2.7.12"
  }
 },
 "nbformat": 4,
 "nbformat_minor": 2
}
